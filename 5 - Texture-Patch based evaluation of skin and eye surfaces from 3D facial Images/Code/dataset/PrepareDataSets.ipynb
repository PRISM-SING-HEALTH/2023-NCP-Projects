{
 "cells": [
  {
   "cell_type": "code",
   "execution_count": 1,
   "metadata": {},
   "outputs": [
    {
     "name": "stdout",
     "output_type": "stream",
     "text": [
      "Current Working directory: /home/devkumar.patel/Desktop/ScleraWorkflow/Datasets/AI-Powered-Framework-for-Sclera-Diagnosis-Assistance/Code\n"
     ]
    }
   ],
   "source": [
    "import os \n",
    "import glob\n",
    "os.chdir('..') # Go back one step in directory! \n",
    "print(f\"Current Working directory: {os.getcwd()}\") # Make sure we are in Code directory "
   ]
  },
  {
   "cell_type": "code",
   "execution_count": 2,
   "metadata": {},
   "outputs": [
    {
     "name": "stderr",
     "output_type": "stream",
     "text": [
      "/home/devkumar.patel/miniconda3/envs/Rare/lib/python3.8/site-packages/tqdm/auto.py:22: TqdmWarning: IProgress not found. Please update jupyter and ipywidgets. See https://ipywidgets.readthedocs.io/en/stable/user_install.html\n",
      "  from .autonotebook import tqdm as notebook_tqdm\n"
     ]
    },
    {
     "ename": "ModuleNotFoundError",
     "evalue": "No module named 'skimage'",
     "output_type": "error",
     "traceback": [
      "\u001b[0;31m---------------------------------------------------------------------------\u001b[0m",
      "\u001b[0;31mModuleNotFoundError\u001b[0m                       Traceback (most recent call last)",
      "Cell \u001b[0;32mIn[2], line 1\u001b[0m\n\u001b[0;32m----> 1\u001b[0m \u001b[39mfrom\u001b[39;00m \u001b[39mImage\u001b[39;00m\u001b[39m.\u001b[39;00m\u001b[39mProcessor\u001b[39;00m \u001b[39mimport\u001b[39;00m Utils, Face, Eye\n",
      "File \u001b[0;32m~/Desktop/ScleraWorkflow/Datasets/AI-Powered-Framework-for-Sclera-Diagnosis-Assistance/Code/Image/__init__.py:1\u001b[0m\n\u001b[0;32m----> 1\u001b[0m \u001b[39mfrom\u001b[39;00m \u001b[39m.\u001b[39;00m\u001b[39mProcessor\u001b[39;00m \u001b[39mimport\u001b[39;00m Eye, Face, Utils\n",
      "File \u001b[0;32m~/Desktop/ScleraWorkflow/Datasets/AI-Powered-Framework-for-Sclera-Diagnosis-Assistance/Code/Image/Processor.py:11\u001b[0m\n\u001b[1;32m      9\u001b[0m \u001b[39mimport\u001b[39;00m \u001b[39mtorch\u001b[39;00m\u001b[39m.\u001b[39;00m\u001b[39mnn\u001b[39;00m\u001b[39m.\u001b[39;00m\u001b[39mfunctional\u001b[39;00m \u001b[39mas\u001b[39;00m \u001b[39mF\u001b[39;00m\n\u001b[1;32m     10\u001b[0m \u001b[39mimport\u001b[39;00m \u001b[39mmatplotlib\u001b[39;00m\u001b[39m.\u001b[39;00m\u001b[39mpyplot\u001b[39;00m \u001b[39mas\u001b[39;00m \u001b[39mplt\u001b[39;00m \n\u001b[0;32m---> 11\u001b[0m \u001b[39mfrom\u001b[39;00m \u001b[39mskimage\u001b[39;00m\u001b[39m.\u001b[39;00m\u001b[39mexposure\u001b[39;00m \u001b[39mimport\u001b[39;00m rescale_intensity\n\u001b[1;32m     13\u001b[0m \u001b[39mclass\u001b[39;00m \u001b[39mUtils\u001b[39;00m():\n\u001b[1;32m     14\u001b[0m     \u001b[39mdef\u001b[39;00m \u001b[39m__init__\u001b[39m(\u001b[39mself\u001b[39m) \u001b[39m-\u001b[39m\u001b[39m>\u001b[39m \u001b[39mNone\u001b[39;00m:\n",
      "\u001b[0;31mModuleNotFoundError\u001b[0m: No module named 'skimage'"
     ]
    }
   ],
   "source": [
    "from Image.Processor import Utils, Face, Eye"
   ]
  },
  {
   "cell_type": "code",
   "execution_count": 5,
   "metadata": {},
   "outputs": [
    {
     "name": "stdout",
     "output_type": "stream",
     "text": [
      "Found 2 images!\n",
      "Working on these images with help of cuda: \n"
     ]
    },
    {
     "name": "stderr",
     "output_type": "stream",
     "text": [
      "100%|██████████| 2/2 [00:05<00:00,  2.60s/it]"
     ]
    },
    {
     "name": "stdout",
     "output_type": "stream",
     "text": [
      "0 failed:\n"
     ]
    },
    {
     "name": "stderr",
     "output_type": "stream",
     "text": [
      "\n"
     ]
    }
   ],
   "source": [
    "# For all the Faces to Sclera \n",
    "def facesTOSclera(glob_image_path, output_dir):\n",
    "    faces = glob.glob(glob_image_path)\n",
    "    print(f\"Found {len(faces)} images!\")\n",
    "    Eye.Save_Faces_To_Scleras(faces, output_dir)\n",
    "#facesTOSclera(\"dataset/Face/Normal/*.jpg\", \"/home/devkumar.patel/Desktop/ScleraWorkflow/Datasets/AI-Powered-Framework-for-Sclera-Diagnosis-Assistance/Code/dataset/Scleras/Normal/\") # For Normal \n",
    "facesTOSclera(\"dataset/Face/OsteogensisImperfecta/*.jpg\", \"/home/devkumar.patel/Desktop/ScleraWorkflow/Datasets/AI-Powered-Framework-for-Sclera-Diagnosis-Assistance/Code/dataset/Scleras/OsteogensisImperfecta/\")"
   ]
  },
  {
   "cell_type": "code",
   "execution_count": 7,
   "metadata": {},
   "outputs": [
    {
     "name": "stdout",
     "output_type": "stream",
     "text": [
      "Found 7 images!\n",
      "Filename processed and saved: /home/devkumar.patel/Desktop/ScleraWorkflow/Datasets/AI-Powered-Framework-for-Sclera-Diagnosis-Assistance/Code/dataset/Scleras/Jaundice/jaundice-scaledL_50\n",
      "Filename processed and saved: /home/devkumar.patel/Desktop/ScleraWorkflow/Datasets/AI-Powered-Framework-for-Sclera-Diagnosis-Assistance/Code/dataset/Scleras/Jaundice/M1900070-Jaundiced_eye\n",
      "Filename processed and saved: /home/devkumar.patel/Desktop/ScleraWorkflow/Datasets/AI-Powered-Framework-for-Sclera-Diagnosis-Assistance/Code/dataset/Scleras/Jaundice/800wm\n",
      "Filename processed and saved: /home/devkumar.patel/Desktop/ScleraWorkflow/Datasets/AI-Powered-Framework-for-Sclera-Diagnosis-Assistance/Code/dataset/Scleras/Jaundice/C0381689-Jaundiced_eye\n",
      "Filename processed and saved: /home/devkumar.patel/Desktop/ScleraWorkflow/Datasets/AI-Powered-Framework-for-Sclera-Diagnosis-Assistance/Code/dataset/Scleras/Jaundice/jaundice-scaledR_50\n",
      "Filename processed and saved: /home/devkumar.patel/Desktop/ScleraWorkflow/Datasets/AI-Powered-Framework-for-Sclera-Diagnosis-Assistance/Code/dataset/Scleras/Jaundice/M1900068-Alcoholic_jaundice\n",
      "Filename processed and saved: /home/devkumar.patel/Desktop/ScleraWorkflow/Datasets/AI-Powered-Framework-for-Sclera-Diagnosis-Assistance/Code/dataset/Scleras/Jaundice/M1900084-Jaundiced_eye\n"
     ]
    }
   ],
   "source": [
    "def EyeCrops_Sclera(images_path, outputdir):\n",
    "    eyes = glob.glob(images_path)\n",
    "    print(f\"Found {len(eyes)} images!\")\n",
    "    Eye.Save_Eye_To_Sclera(eyes, output_dir=outputdir )\n",
    "\"\"\"\n",
    "EyeCrops_Sclera(\n",
    "    \"dataset/EyeCrops/OsteogensisImperfecta/*\",\n",
    "    \"/home/devkumar.patel/Desktop/ScleraWorkflow/Datasets/AI-Powered-Framework-for-Sclera-Diagnosis-Assistance/Code/dataset/Scleras/OsteogensisImperfecta/\")\n",
    "\"\"\"\n",
    "EyeCrops_Sclera(\n",
    "    \"dataset/EyeCrops/Jaundice/*\",\n",
    "    \"/home/devkumar.patel/Desktop/ScleraWorkflow/Datasets/AI-Powered-Framework-for-Sclera-Diagnosis-Assistance/Code/dataset/Scleras/Jaundice/\")\n",
    "\n"
   ]
  },
  {
   "cell_type": "code",
   "execution_count": null,
   "metadata": {},
   "outputs": [],
   "source": []
  }
 ],
 "metadata": {
  "kernelspec": {
   "display_name": "Rare",
   "language": "python",
   "name": "python3"
  },
  "language_info": {
   "codemirror_mode": {
    "name": "ipython",
    "version": 3
   },
   "file_extension": ".py",
   "mimetype": "text/x-python",
   "name": "python",
   "nbconvert_exporter": "python",
   "pygments_lexer": "ipython3",
   "version": "3.8.0"
  },
  "orig_nbformat": 4,
  "vscode": {
   "interpreter": {
    "hash": "b3657bfe22498552fcd28891e6674b26f4f8e8f44aec34017f3d941f0d67d0e3"
   }
  }
 },
 "nbformat": 4,
 "nbformat_minor": 2
}
