{
 "cells": [
  {
   "cell_type": "code",
   "execution_count": 1,
   "metadata": {},
   "outputs": [
    {
     "data": {
      "text/plain": [
       "'/home/devkumar.patel/Desktop/ScleraWorkflow/Datasets/AI-Powered-Framework-for-Sclera-Diagnosis-Assistance/Code'"
      ]
     },
     "execution_count": 1,
     "metadata": {},
     "output_type": "execute_result"
    }
   ],
   "source": [
    "import os\n",
    "import cv2\n",
    "import glob \n",
    "import joblib\n",
    "import itertools\n",
    "import numpy as np \n",
    "import matplotlib.pyplot as plt \n",
    "from sklearn.neighbors import KNeighborsClassifier\n",
    "os.chdir(\"..\")\n",
    "os.getcwd()"
   ]
  },
  {
   "cell_type": "code",
   "execution_count": 2,
   "metadata": {},
   "outputs": [
    {
     "name": "stderr",
     "output_type": "stream",
     "text": [
      "/home/devkumar.patel/miniconda3/envs/Rare/lib/python3.8/site-packages/tqdm/auto.py:22: TqdmWarning: IProgress not found. Please update jupyter and ipywidgets. See https://ipywidgets.readthedocs.io/en/stable/user_install.html\n",
      "  from .autonotebook import tqdm as notebook_tqdm\n"
     ]
    }
   ],
   "source": [
    "from Image.Processor import Utils"
   ]
  },
  {
   "cell_type": "code",
   "execution_count": 3,
   "metadata": {},
   "outputs": [
    {
     "name": "stdout",
     "output_type": "stream",
     "text": [
      "Jaundice :  240\n",
      "Jaundice-Test :  1\n",
      "Normal :  435\n",
      "Normal-Test :  65\n",
      "OseteogensisImperfecta :  360\n",
      "OseteogensisImperfecta-Test :  2\n",
      "Total Train: 1035\n",
      "Total Test: 68\n"
     ]
    }
   ],
   "source": [
    "paths = {\n",
    "            \"Jaundice\": (glob.glob(\"dataset/Scleras/Jaundice/*.png\"),0, 'train'),\n",
    "            \"Jaundice-Test\": (glob.glob(\"dataset/Scleras/Jaundice/test/*.png\"),0, 'test'),\n",
    "            \"Normal\": (glob.glob(\"dataset/Scleras/Normal/*.png\"),1, 'train'),\n",
    "            \"Normal-Test\": (glob.glob(\"dataset/Scleras/Normal/test/*.png\"),1, 'test'),\n",
    "            \"OseteogensisImperfecta\" : (glob.glob(\"dataset/Scleras/OsteogensisImperfecta/*.png\"),2, 'train'),\n",
    "            \"OseteogensisImperfecta-Test\" : (glob.glob(\"dataset/Scleras/OsteogensisImperfecta/test/*.png\"),2, 'test')\n",
    "        }\n",
    "\n",
    "# Augment the data: \n",
    "paths[\"Jaundice\"] = (list(itertools.chain.from_iterable(itertools.repeat(x, 40) for x in paths[\"Jaundice\"][0])), 0, 'train')\n",
    "paths[\"OseteogensisImperfecta\"] = (list(itertools.chain.from_iterable(itertools.repeat(x, 40 ) for x in paths[\"OseteogensisImperfecta\"][0])), 2, 'train')\n",
    "\n",
    "\n",
    "train = []\n",
    "train_hist = []\n",
    "train_label = []\n",
    "test_label = []\n",
    "test_hist = []\n",
    "test = []\n",
    "\n",
    "for dataset_names in paths.keys():\n",
    "    print( dataset_names ,\": \",len(paths[dataset_names][0])  )\n",
    "    dataset, label, mode = paths[dataset_names]\n",
    "    for i, name in enumerate(dataset): \n",
    "        if mode == 'train':\n",
    "            train_hist.append(Utils.Image_To_Histogram(cv2.imread(name), concat=True ).flatten()  )\n",
    "            train.append(name)\n",
    "            train_label.append(label)\n",
    "        if mode == 'test':\n",
    "            test_hist.append(Utils.Image_To_Histogram(cv2.imread(name), concat=True ).flatten()  )\n",
    "            test.append(name)\n",
    "            test_label.append(label)\n",
    "\n",
    "print(f\"Total Train: {len(train)}\")\n",
    "print(f\"Total Test: {len(test)}\")\n"
   ]
  },
  {
   "cell_type": "code",
   "execution_count": 4,
   "metadata": {},
   "outputs": [
    {
     "data": {
      "text/html": [
       "<style>#sk-container-id-1 {color: black;background-color: white;}#sk-container-id-1 pre{padding: 0;}#sk-container-id-1 div.sk-toggleable {background-color: white;}#sk-container-id-1 label.sk-toggleable__label {cursor: pointer;display: block;width: 100%;margin-bottom: 0;padding: 0.3em;box-sizing: border-box;text-align: center;}#sk-container-id-1 label.sk-toggleable__label-arrow:before {content: \"▸\";float: left;margin-right: 0.25em;color: #696969;}#sk-container-id-1 label.sk-toggleable__label-arrow:hover:before {color: black;}#sk-container-id-1 div.sk-estimator:hover label.sk-toggleable__label-arrow:before {color: black;}#sk-container-id-1 div.sk-toggleable__content {max-height: 0;max-width: 0;overflow: hidden;text-align: left;background-color: #f0f8ff;}#sk-container-id-1 div.sk-toggleable__content pre {margin: 0.2em;color: black;border-radius: 0.25em;background-color: #f0f8ff;}#sk-container-id-1 input.sk-toggleable__control:checked~div.sk-toggleable__content {max-height: 200px;max-width: 100%;overflow: auto;}#sk-container-id-1 input.sk-toggleable__control:checked~label.sk-toggleable__label-arrow:before {content: \"▾\";}#sk-container-id-1 div.sk-estimator input.sk-toggleable__control:checked~label.sk-toggleable__label {background-color: #d4ebff;}#sk-container-id-1 div.sk-label input.sk-toggleable__control:checked~label.sk-toggleable__label {background-color: #d4ebff;}#sk-container-id-1 input.sk-hidden--visually {border: 0;clip: rect(1px 1px 1px 1px);clip: rect(1px, 1px, 1px, 1px);height: 1px;margin: -1px;overflow: hidden;padding: 0;position: absolute;width: 1px;}#sk-container-id-1 div.sk-estimator {font-family: monospace;background-color: #f0f8ff;border: 1px dotted black;border-radius: 0.25em;box-sizing: border-box;margin-bottom: 0.5em;}#sk-container-id-1 div.sk-estimator:hover {background-color: #d4ebff;}#sk-container-id-1 div.sk-parallel-item::after {content: \"\";width: 100%;border-bottom: 1px solid gray;flex-grow: 1;}#sk-container-id-1 div.sk-label:hover label.sk-toggleable__label {background-color: #d4ebff;}#sk-container-id-1 div.sk-serial::before {content: \"\";position: absolute;border-left: 1px solid gray;box-sizing: border-box;top: 0;bottom: 0;left: 50%;z-index: 0;}#sk-container-id-1 div.sk-serial {display: flex;flex-direction: column;align-items: center;background-color: white;padding-right: 0.2em;padding-left: 0.2em;position: relative;}#sk-container-id-1 div.sk-item {position: relative;z-index: 1;}#sk-container-id-1 div.sk-parallel {display: flex;align-items: stretch;justify-content: center;background-color: white;position: relative;}#sk-container-id-1 div.sk-item::before, #sk-container-id-1 div.sk-parallel-item::before {content: \"\";position: absolute;border-left: 1px solid gray;box-sizing: border-box;top: 0;bottom: 0;left: 50%;z-index: -1;}#sk-container-id-1 div.sk-parallel-item {display: flex;flex-direction: column;z-index: 1;position: relative;background-color: white;}#sk-container-id-1 div.sk-parallel-item:first-child::after {align-self: flex-end;width: 50%;}#sk-container-id-1 div.sk-parallel-item:last-child::after {align-self: flex-start;width: 50%;}#sk-container-id-1 div.sk-parallel-item:only-child::after {width: 0;}#sk-container-id-1 div.sk-dashed-wrapped {border: 1px dashed gray;margin: 0 0.4em 0.5em 0.4em;box-sizing: border-box;padding-bottom: 0.4em;background-color: white;}#sk-container-id-1 div.sk-label label {font-family: monospace;font-weight: bold;display: inline-block;line-height: 1.2em;}#sk-container-id-1 div.sk-label-container {text-align: center;}#sk-container-id-1 div.sk-container {/* jupyter's `normalize.less` sets `[hidden] { display: none; }` but bootstrap.min.css set `[hidden] { display: none !important; }` so we also need the `!important` here to be able to override the default hidden behavior on the sphinx rendered scikit-learn.org. See: https://github.com/scikit-learn/scikit-learn/issues/21755 */display: inline-block !important;position: relative;}#sk-container-id-1 div.sk-text-repr-fallback {display: none;}</style><div id=\"sk-container-id-1\" class=\"sk-top-container\"><div class=\"sk-text-repr-fallback\"><pre>KNeighborsClassifier()</pre><b>In a Jupyter environment, please rerun this cell to show the HTML representation or trust the notebook. <br />On GitHub, the HTML representation is unable to render, please try loading this page with nbviewer.org.</b></div><div class=\"sk-container\" hidden><div class=\"sk-item\"><div class=\"sk-estimator sk-toggleable\"><input class=\"sk-toggleable__control sk-hidden--visually\" id=\"sk-estimator-id-1\" type=\"checkbox\" checked><label for=\"sk-estimator-id-1\" class=\"sk-toggleable__label sk-toggleable__label-arrow\">KNeighborsClassifier</label><div class=\"sk-toggleable__content\"><pre>KNeighborsClassifier()</pre></div></div></div></div></div>"
      ],
      "text/plain": [
       "KNeighborsClassifier()"
      ]
     },
     "execution_count": 4,
     "metadata": {},
     "output_type": "execute_result"
    }
   ],
   "source": [
    "knn = KNeighborsClassifier(n_neighbors=5)\n",
    "knn.fit(train_hist, train_label)"
   ]
  },
  {
   "cell_type": "code",
   "execution_count": 5,
   "metadata": {},
   "outputs": [
    {
     "name": "stdout",
     "output_type": "stream",
     "text": [
      "Accuracy: 0.99\n"
     ]
    }
   ],
   "source": [
    "accuracy = knn.score(test_hist, test_label)\n",
    "print(f\"Accuracy: {accuracy:.2f}\")"
   ]
  },
  {
   "cell_type": "code",
   "execution_count": 9,
   "metadata": {},
   "outputs": [
    {
     "name": "stdout",
     "output_type": "stream",
     "text": [
      "Path: dataset/Scleras/OsteogensisImperfecta/test/25001_copy3R.png\n",
      "label: 2\n",
      "Predicted: 1\n"
     ]
    }
   ],
   "source": [
    "def predict_img(img_path, label, model):\n",
    "    print(f\"Path: {img_path}\")\n",
    "    print(f\"label: {label}\")\n",
    "    \n",
    "    img = cv2.imread(img_path)\n",
    "    hist = Utils.Image_To_Histogram(  img,  concat=True  ).flatten() \n",
    "    hist = hist.reshape(1, -1)\n",
    "    print(f\"Predicted: {knn.predict(hist)[0]}\")\n",
    "\n",
    "predict_img(paths[\"OseteogensisImperfecta-Test\"][0][1], paths[\"OseteogensisImperfecta-Test\"][1], knn)\n",
    "#predict_img(paths[\"Jaundice-Test\"][0][0], paths[\"Jaundice-Test\"][1], knn)\n",
    "#predict_img(\"/home/devkumar.patel/Desktop/ScleraWorkflow/Datasets/AI-Powered-Framework-for-Sclera-Diagnosis-Assistance/Code/dataset/Scleras/OsteogensisImperfecta/test/KKHFV250011R.png\", paths[\"OseteogensisImperfecta-Test\"][1], knn)\n",
    "\n"
   ]
  },
  {
   "cell_type": "code",
   "execution_count": 10,
   "metadata": {},
   "outputs": [
    {
     "data": {
      "text/plain": [
       "['Image/classifiers/knn.joblib']"
      ]
     },
     "execution_count": 10,
     "metadata": {},
     "output_type": "execute_result"
    }
   ],
   "source": [
    "filename = 'Image/classifiers/knn.joblib'\n",
    "joblib.dump(knn, filename)"
   ]
  },
  {
   "cell_type": "code",
   "execution_count": null,
   "metadata": {},
   "outputs": [],
   "source": []
  }
 ],
 "metadata": {
  "kernelspec": {
   "display_name": "Rare",
   "language": "python",
   "name": "python3"
  },
  "language_info": {
   "codemirror_mode": {
    "name": "ipython",
    "version": 3
   },
   "file_extension": ".py",
   "mimetype": "text/x-python",
   "name": "python",
   "nbconvert_exporter": "python",
   "pygments_lexer": "ipython3",
   "version": "3.8.0"
  },
  "orig_nbformat": 4,
  "vscode": {
   "interpreter": {
    "hash": "b3657bfe22498552fcd28891e6674b26f4f8e8f44aec34017f3d941f0d67d0e3"
   }
  }
 },
 "nbformat": 4,
 "nbformat_minor": 2
}
